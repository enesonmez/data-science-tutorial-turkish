{
 "cells": [
  {
   "cell_type": "markdown",
   "metadata": {},
   "source": [
    "# Basic Statistics (Temel İstatistik)"
   ]
  },
  {
   "cell_type": "markdown",
   "metadata": {},
   "source": [
    "İstatistiksel düşünce yöntemine sahip olmak kişilerin verilerle analiz sürecinde ilk adımdan son adıma kadar olan kısmı en doğru şekilde tamamlamalarını sağlar. İstatistik iki temel gruba ayrılır:\n",
    "\n",
    "1. **Tanımlayıcı (Descriptive) İstatistik** : Verilerin toplanması, sunulması ve veri özelliklerinin belirlenmesi süreçlerini kapsar. Karmaşık halde bulunan veriden alınan özet bilgilerin belirlenmesi ve sayısal olarak ifade edilmesi için kullanılır.\n",
    "\n",
    "2. **Çıkarımsal (Inferential) İstatistik** : Örneklem verilerine dayalı olarak ana kütle hakkında çıkarımlar yapmak, karar vermek ve sonuca bağlamak için kullanılır."
   ]
  },
  {
   "cell_type": "markdown",
   "metadata": {},
   "source": [
    "## İstatistikte Temel Kavramlar"
   ]
  },
  {
   "cell_type": "markdown",
   "metadata": {},
   "source": [
    "### Popülasyon ve Örneklem (Population and Sample)"
   ]
  },
  {
   "cell_type": "markdown",
   "metadata": {},
   "source": [
    "<div style=\"text-align:center\"><img src=\"../images/populasyon_orneklem.jpg\" /></div>"
   ]
  },
  {
   "cell_type": "markdown",
   "metadata": {},
   "source": [
    "İstatistiksel bir araştırma konusunda, bahsi geçen bütün elementler **popülasyonu** (ana kütle, evren) oluşturur. Bu popülasyon içinden seçilen daha küçük ve spesifik gruba ise **örneklem** denir. Popülasyonun tümünden veri toplanırsa buna da **tamsayım** denir. <br>\n",
    "Örneğin Türkiye’de yapılacak seçim sonucunun tahminine yönelik istatistiksel bir araştırma yapılmak istensin. Burada oy kullanacak olan bütün seçmenler _popülasyon'u_ oluşturur. Bütün popülasyona hangi partiye oy verileceği sorulamayacağından, bir alt küme (daha küçük bir grup) seçilir ve bu alt küme de _örneklem_ olarak adlandırılır."
   ]
  },
  {
   "cell_type": "markdown",
   "metadata": {},
   "source": [
    "#### Örneklem Kulanılma Nedenleri"
   ]
  },
  {
   "cell_type": "markdown",
   "metadata": {},
   "source": [
    "- Bütünü incelemek oldukça zordur.\n",
    "- Zamandan tasarruf edebilmek için. Bütünü incelemek fazlaca zamanımızı alacaktır.\n",
    "- Maliyetten tasarruf edebilmek için. Bütünü incelerken zaman uzayacak ve doğru orantılı olarak maliyet artacaktır."
   ]
  },
  {
   "cell_type": "markdown",
   "metadata": {},
   "source": [
    "#### Örneklemin Özellikleri"
   ]
  },
  {
   "cell_type": "markdown",
   "metadata": {},
   "source": [
    "- Örneklemin eşit ağırlıklı ve rastlantısal seçilmesi gerekir. Örneğin üleknin gelir durumu için araştırma yaparken ağırlıklı olarak zengin kesimden örneklem alınırsa araştırma doğru sonuç vermeyecektir.\n",
    "- Örneklem ana kümeyi net olarak yansıtmaz.\n",
    "- Örneklem büyüdükçe doğruluk oranı artar. Ancak maliyet ve zaman da doğru orantılı olacak şekilde artar."
   ]
  },
  {
   "cell_type": "markdown",
   "metadata": {},
   "source": [
    "#### Örneklem Çeşitleri"
   ]
  },
  {
   "cell_type": "markdown",
   "metadata": {},
   "source": [
    "1. **Olasılığa Dayalı Teknikler** : Örnekler rastgele seçilir. Araştırmacı müdahalede bulunmaz.\n",
    "\n",
    "    <div style=\"text-align:center\"><img src=\"../images/olasiliga_dayali_orneklem.jpg\" /></div>\n",
    "\n",
    "    1.1. **Basit Tesadüfi Örnekleme (Simple Random Sample)** : Popülasyon içinden rastgele örneklem seçme yöntemidir. <br>\n",
    "    1.2. **Sistematik Örnekleme (Systematic Sampling)** : Ana kütle çok büyük olduğunda kullanılır. Ana kütleden belirli aralıklarla örnek seçilerek elde edilir.\n",
    "\n",
    "    <div style=\"text-align:center\"><img src=\"../images/sistematik_orneklem.png\" /></div>\n",
    "\n",
    "    1.3. **Tabakalı Örnekleme (Stratified Sampling)** : Özelliği anakütlenin içindeki bütün elamanlar belli özelliklere göre kendi içlerinde birbirlerine benzeyen birkaç gruptan, tabakadan oluştuklarıdır. Tabaka elemanları birbirlerine benzerler fakat diğer tabaka elemanlarından çok bariz şekilde değişiktirler. Tabaka örneğinde örnek elemanları öyle seçilmektedir ki her bir anakütle tabakası için örnekte temsilci bulunmaktadır. <br>\n",
    "    1.4. **Küme Örnekleme (Cluster Sampling)** : Genel olarak bu yöntemin uygulanması anakütle içinde veri elamanları \"kümeler\" halinde ise uygundur. Bir küme içindeki elemanlar belirli karakter özelliklerine göre (çoğunlukla coğrafî alana göre) birbirine \"yakınlık\" göstermekte ve diğer anakütle içindeki kümelerden daha \"uzak\" olmaktadır.\n",
    "2. **Olasılığa Dayalı Olmayan Teknikler** <br>\n",
    "   2.1. **Kolayda Örnekleme** : Ankete cevap veren herkes örnekleme dahil edilir. <br>\n",
    "   2.2. **Kasti Örnekleme** : Örneklem araştırmacının araştırma problemine cevap bulacağına inandığı kişilerden oluşur. <br>\n",
    "   2.3. **Kota Örnekleme** : Önceden belirlenen kriterlere göre anakitleyi temsil edecek kişişlerden örneklem oluşturulur. <br>\n",
    "   2.4. **Kartopu Örnekleme** : Örnekleme dahil edilecek ilk birey yargısal veya tesadüfi olarak seçilir. Ardından ikinci kişi ilk görüşülen kişinin yönlendirmesiyle seçilir. Üçüncü ikincinin, dördüncü üçüncünün derken büyük bir kartopu örneklemi oluşur."
   ]
  },
  {
   "cell_type": "markdown",
   "metadata": {},
   "source": [
    "### Gözlem Birimi (Unit of observation)"
   ]
  },
  {
   "cell_type": "markdown",
   "metadata": {},
   "source": [
    "<p align=\"center\"><img align=\"center\" src=\"../images/gozlem-birimi.png\"></p>\n",
    "\n",
    "Analiz sürecinde, araştırma yapılacak alanda incelenen özelliği taşıyan ve bu özelliğin değerini sayısal olarak elde edebileceğimiz kaynağa denir. Örneğin üniversite sınavına girecekler ile ilgili yapılacak bir araştırmada yer alacak her bir öğrenci bizim gözlem birimimizdir."
   ]
  },
  {
   "cell_type": "markdown",
   "metadata": {},
   "source": [
    "### Parametre"
   ]
  },
  {
   "cell_type": "markdown",
   "metadata": {},
   "source": [
    "Popülasyonun ölçülebilen, gözlemlenebilen, sayısal olarak ifade edebildiğimiz özellikleri ana kütlenin parametresi deriz. Parametrenin belirlenmesi için ana kütle içerisindeki tüm bilgilere ılaşılması gerekir. Ana kütle birden fazla parametreye sahip olabilir.\n",
    "\n",
    "<p align=\"center\"><img align=\"center\" src=\"../images/parametre-istatistik.png\"></p>\n",
    "\n",
    "* Popülasyondan hesaplanan sayısal değerlere **parametre** denir.\n",
    "* Örneklemden elde edilen sayısal değerlere **istatistik** denir."
   ]
  },
  {
   "cell_type": "markdown",
   "metadata": {},
   "source": [
    "### Değişkenler"
   ]
  },
  {
   "cell_type": "markdown",
   "metadata": {},
   "source": [
    "#### Değişken Türleri\n",
    "\n",
    "- **Nicel Değişken** : Sayısal olarak ifade edilirler. Örnek.: yaş, kilo\n",
    "- **Nitel Değişken** : Sözcük ve kelimelerle ifade edlien değişkenlere denir. Örnek.: cinsiyet, eğitim durumu\n",
    "- **Sürekli Değişken** : Ölçüm veya gözlemelerde sırasında sınırsız değer alabilenlere sürekli değişken denir. Örnek.: yaş, akademik başarı\n",
    "- **Kesikli Değişken** : Sınırlı sayıda değer alıyorsa kesikli değişkendir. Örnek.: cinsiyet, kan grubu\n",
    "- **Bağımlı - Bağımsız Değişkenler** : Değişkenler neden sonuç ilişkisi içerisinde yer alıyor ve birbirlerinden etkileniyorsa bağımlı-bağımsız değişken vardır deriz.\n",
    "\n",
    "<p align=\"center\"><img align=\"center\" src=\"../images/bagimli-bagimsiz-degiskenler.png\"></p>"
   ]
  },
  {
   "cell_type": "markdown",
   "metadata": {},
   "source": [
    "### Ölçek Türleri"
   ]
  },
  {
   "cell_type": "markdown",
   "metadata": {},
   "source": [
    "Ölçme faaliyetlerinin yerine getirilmesi için kullanılması gereken araçlar topluluğuna **ölçek** denir. Ölçek türlere ayrılır.\n",
    "\n",
    "1. **Sınıflama Ölçekleri** : Bireylerin ya da nesnelerin kategorize edilerek, türlerine göre gruplandırılmasına dayanır. Matematiksel olarak işlem yapılamaz. Matematiksel olarak en az bilgiyi veren türdür. Ölçülecek değişken kategorik değerler alır. Ölçülecek değişkenin miktar olarak değerlendirilmesi yapIlamaz. Örnek: voleybol takımindaki oyunculara sayı numarası vererek sınıflandırmak, Kişileri saç renklerine göre sınıflandırmak.\n",
    "2. **Sıralama Ölçekleri** : Bireyleri ya da nesneleri belirli özelliklerine göre ele alıp büyükten küçüğe ya da küçükten büyüğe siralayarak oluşturulan ölçek türüdür. Ölçme sonuçları üzerinde matematiksel işlemler yapamayız. Örnek: sınavdan alinan puana göre öğrencilerin başarı sıralamasını yapmak, iş yerinde kişileri boy sıralarına göre sıralamak, hastanede sıra numarası alarak sıralamak.\n",
    "3. **Eşit Aralıklı Ölçekler** : Ölçülen özelliğin belirlenen bir başlangıç noktası ele alınarak eşit aralıklarla ölçülmesine denir. Ölçme sonuçları üzerinde matematiksek işlem olarak toplama çıkarma yapilabilir. Örnek: sınav puanlarina göre sınıftaki öğrenciler 10'ar gruplara ayırılıp ölçeklendirilebilir.\n",
    "4. **Eşit Oranlı Ölçekler** : Ölçülen özelliğin belirlenen bir başlangıç noktası ele alınarak eşit oranlarda ölçülmesine denir. Ölçme sonuçları üzerinde matematiksek işlem olarak toplama çıkarma yapilabilir. Örnek: sınav puan aralıklarına göre sınıftaki öğrenciler 10'ar gruplara ayırılıp ölçeklendirilebilir."
   ]
  },
  {
   "cell_type": "markdown",
   "metadata": {},
   "source": [
    "## Tanımlayıcı İstatistik"
   ]
  },
  {
   "cell_type": "markdown",
   "metadata": {},
   "source": [
    "<p align=\"center\"><img align=\"center\" src=\"../images/tanimlayici-istatistikler.jpg\"></p>"
   ]
  },
  {
   "cell_type": "markdown",
   "metadata": {},
   "source": [
    "### 1. Yer Ölçüleri"
   ]
  },
  {
   "cell_type": "markdown",
   "metadata": {},
   "source": [
    "#### 1.1. Aritmetik Ortalama"
   ]
  },
  {
   "cell_type": "markdown",
   "metadata": {},
   "source": [
    "Bir veri setindeki elemanların tamamının toplamının eleman sayısına bölümüne **aritmetik ortalama** denir. Aritmetik ortlama veri setinin denge noktasını göstermektedir. Ortalama hesaplanırken veri setindeki **outlier (aykırı)** verilerin elimine edilmiş olması önemlidir. Aksi halde bu aykırı değer ortalamayı dağılımdan çok daha farklı yerlere götürüp hatalı analizler yapılmasına sebep olabilir."
   ]
  },
  {
   "cell_type": "markdown",
   "metadata": {},
   "source": [
    "**Popülasyon Aritmetik Ortalama**"
   ]
  },
  {
   "cell_type": "markdown",
   "metadata": {},
   "source": [
    "\n",
    "$$ \\mu = {\\frac{1}{N} \\sum_{i=1}^{N} x_{i}} = \\frac{x_1+x_2+x_3+\\cdots+x_N}{N} $$\n"
   ]
  },
  {
   "cell_type": "markdown",
   "metadata": {},
   "source": []
  }
 ],
 "metadata": {
  "language_info": {
   "name": "python"
  },
  "orig_nbformat": 4
 },
 "nbformat": 4,
 "nbformat_minor": 2
}
