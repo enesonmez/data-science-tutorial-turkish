{
 "cells": [
  {
   "cell_type": "markdown",
   "metadata": {},
   "source": [
    "# Basic Statistics (Temel İstatistik)"
   ]
  },
  {
   "cell_type": "markdown",
   "metadata": {},
   "source": [
    "İstatistiksel düşünce yöntemine sahip olmak kişilerin verilerle analiz sürecinde ilk adımdan son adıma kadar olan kısmı en doğru şekilde tamamlamalarını sağlar. İstatistik iki temel gruba ayrılır:\n",
    "\n",
    "1. **Tanımlayıcı (Descriptive) İstatistik** : Verilerin toplanması, sunulması ve veri özelliklerinin belirlenmesi süreçlerini kapsar. Karmaşık halde bulunan veriden alınan özet bilgilerin belirlenmesi ve sayısal olarak ifade edilmesi için kullanılır.\n",
    "\n",
    "2. **Çıkarımsal (Inferential) İstatistik** : Örneklem verilerine dayalı olarak ana kütle hakkında çıkarımlar yapmak, karar vermek ve sonuca bağlamak için kullanılır."
   ]
  },
  {
   "cell_type": "markdown",
   "metadata": {},
   "source": [
    "## İstatistikte Temel Kavramlar"
   ]
  },
  {
   "cell_type": "markdown",
   "metadata": {},
   "source": [
    "### Popülasyon ve Örneklem (Population and Sample)"
   ]
  },
  {
   "cell_type": "markdown",
   "metadata": {},
   "source": [
    "<div style=\"text-align:center\"><img src=\"../images/populasyon_orneklem.jpg\" /></div>"
   ]
  },
  {
   "cell_type": "markdown",
   "metadata": {},
   "source": [
    "İstatistiksel bir araştırma konusunda, bahsi geçen bütün elementler **popülasyonu** (ana kütle, evren) oluşturur. Bu popülasyon içinden seçilen daha küçük ve spesifik gruba ise **örneklem** denir. Popülasyonun tümünden veri toplanırsa buna da **tamsayım** denir. <br>\n",
    "Örneğin Türkiye’de yapılacak seçim sonucunun tahminine yönelik istatistiksel bir araştırma yapılmak istensin. Burada oy kullanacak olan bütün seçmenler _popülasyon'u_ oluşturur. Bütün popülasyona hangi partiye oy verileceği sorulamayacağından, bir alt küme (daha küçük bir grup) seçilir ve bu alt küme de _örneklem_ olarak adlandırılır."
   ]
  },
  {
   "cell_type": "markdown",
   "metadata": {},
   "source": [
    "#### Örneklem Kulanılma Nedenleri"
   ]
  },
  {
   "cell_type": "markdown",
   "metadata": {},
   "source": [
    "- Bütünü incelemek oldukça zordur.\n",
    "- Zamandan tasarruf edebilmek için. Bütünü incelemek fazlaca zamanımızı alacaktır.\n",
    "- Maliyetten tasarruf edebilmek için. Bütünü incelerken zaman uzayacak ve doğru orantılı olarak maliyet artacaktır."
   ]
  },
  {
   "cell_type": "markdown",
   "metadata": {},
   "source": [
    "#### Örneklemin Özellikleri"
   ]
  },
  {
   "cell_type": "markdown",
   "metadata": {},
   "source": [
    "- Örneklemin eşit ağırlıklı ve rastlantısal seçilmesi gerekir. Örneğin üleknin gelir durumu için araştırma yaparken ağırlıklı olarak zengin kesimden örneklem alınırsa araştırma doğru sonuç vermeyecektir.\n",
    "- Örneklem ana kümeyi net olarak yansıtmaz.\n",
    "- Örneklem büyüdükçe doğruluk oranı artar. Ancak maliyet ve zaman da doğru orantılı olacak şekilde artar."
   ]
  },
  {
   "cell_type": "markdown",
   "metadata": {},
   "source": [
    "#### Örneklem Çeşitleri"
   ]
  },
  {
   "cell_type": "markdown",
   "metadata": {},
   "source": [
    "1. **Olasılığa Dayalı Teknikler** : Örnekler rastgele seçilir. Araştırmacı müdahalede bulunmaz.\n",
    "\n",
    "    <div style=\"text-align:center\"><img src=\"../images/olasiliga_dayali_orneklem.jpg\" /></div>\n",
    "\n",
    "    1.1. **Basit Tesadüfi Örnekleme (Simple Random Sample)** : Popülasyon içinden rastgele örneklem seçme yöntemidir. <br>\n",
    "    1.2. **Sistematik Örnekleme (Systematic Sampling)** : Ana kütle çok büyük olduğunda kullanılır. Ana kütleden belirli aralıklarla örnek seçilerek elde edilir.\n",
    "\n",
    "    <div style=\"text-align:center\"><img src=\"../images/sistematik_orneklem.png\" /></div>\n",
    "\n",
    "    1.3. **Tabakalı Örnekleme (Stratified Sampling)** : Özelliği anakütlenin içindeki bütün elamanlar belli özelliklere göre kendi içlerinde birbirlerine benzeyen birkaç gruptan, tabakadan oluştuklarıdır. Tabaka elemanları birbirlerine benzerler fakat diğer tabaka elemanlarından çok bariz şekilde değişiktirler. Tabaka örneğinde örnek elemanları öyle seçilmektedir ki her bir anakütle tabakası için örnekte temsilci bulunmaktadır. <br>\n",
    "    1.4. **Küme Örnekleme (Cluster Sampling)** : Genel olarak bu yöntemin uygulanması anakütle içinde veri elamanları \"kümeler\" halinde ise uygundur. Bir küme içindeki elemanlar belirli karakter özelliklerine göre (çoğunlukla coğrafî alana göre) birbirine \"yakınlık\" göstermekte ve diğer anakütle içindeki kümelerden daha \"uzak\" olmaktadır.\n",
    "2. **Olasılığa Dayalı Olmayan Teknikler** <br>\n",
    "   2.1. **Kolayda Örnekleme** : Ankete cevap veren herkes örnekleme dahil edilir. <br>\n",
    "   2.2. **Kasti Örnekleme** : Örneklem araştırmacının araştırma problemine cevap bulacağına inandığı kişilerden oluşur. <br>\n",
    "   2.3. **Kota Örnekleme** : Önceden belirlenen kriterlere göre anakitleyi temsil edecek kişişlerden örneklem oluşturulur. <br>\n",
    "   2.4. **Kartopu Örnekleme** : Örnekleme dahil edilecek ilk birey yargısal veya tesadüfi olarak seçilir. Ardından ikinci kişi ilk görüşülen kişinin yönlendirmesiyle seçilir. Üçüncü ikincinin, dördüncü üçüncünün derken büyük bir kartopu örneklemi oluşur."
   ]
  },
  {
   "cell_type": "markdown",
   "metadata": {},
   "source": [
    "### Gözlem Birimi (Unit of observation)"
   ]
  },
  {
   "cell_type": "markdown",
   "metadata": {},
   "source": [
    "<p align=\"center\"><img align=\"center\" src=\"../images/gozlem-birimi.png\"></p>\n",
    "\n",
    "Analiz sürecinde, araştırma yapılacak alanda incelenen özelliği taşıyan ve bu özelliğin değerini sayısal olarak elde edebileceğimiz kaynağa denir. Örneğin üniversite sınavına girecekler ile ilgili yapılacak bir araştırmada yer alacak her bir öğrenci bizim gözlem birimimizdir."
   ]
  },
  {
   "cell_type": "markdown",
   "metadata": {},
   "source": [
    "### Parametre"
   ]
  },
  {
   "cell_type": "markdown",
   "metadata": {},
   "source": [
    "Popülasyonun ölçülebilen, gözlemlenebilen, sayısal olarak ifade edebildiğimiz özellikleri ana kütlenin parametresi deriz. Parametrenin belirlenmesi için ana kütle içerisindeki tüm bilgilere ılaşılması gerekir. Ana kütle birden fazla parametreye sahip olabilir.\n",
    "\n",
    "<p align=\"center\"><img align=\"center\" src=\"../images/parametre-istatistik.png\"></p>\n",
    "\n",
    "* Popülasyondan hesaplanan sayısal değerlere **parametre** denir.\n",
    "* Örneklemden elde edilen sayısal değerlere **istatistik** denir."
   ]
  },
  {
   "cell_type": "markdown",
   "metadata": {},
   "source": [
    "### Değişkenler"
   ]
  },
  {
   "cell_type": "markdown",
   "metadata": {},
   "source": [
    "#### Değişken Türleri\n",
    "\n",
    "- **Nicel Değişken** : Sayısal olarak ifade edilirler. Örnek.: yaş, kilo\n",
    "- **Nitel Değişken** : Sözcük ve kelimelerle ifade edlien değişkenlere denir. Örnek.: cinsiyet, eğitim durumu\n",
    "- **Sürekli Değişken** : Ölçüm veya gözlemelerde sırasında sınırsız değer alabilenlere sürekli değişken denir. Örnek.: yaş, akademik başarı\n",
    "- **Kesikli Değişken** : Sınırlı sayıda değer alıyorsa kesikli değişkendir. Örnek.: cinsiyet, kan grubu\n",
    "- **Bağımlı - Bağımsız Değişkenler** : Değişkenler neden sonuç ilişkisi içerisinde yer alıyor ve birbirlerinden etkileniyorsa bağımlı-bağımsız değişken vardır deriz.\n",
    "\n",
    "<p align=\"center\"><img align=\"center\" src=\"../images/bagimli-bagimsiz-degiskenler.png\"></p>"
   ]
  },
  {
   "cell_type": "markdown",
   "metadata": {},
   "source": [
    "### Ölçek Türleri"
   ]
  },
  {
   "cell_type": "markdown",
   "metadata": {},
   "source": [
    "Ölçme faaliyetlerinin yerine getirilmesi için kullanılması gereken araçlar topluluğuna **ölçek** denir. Ölçek türlere ayrılır.\n",
    "\n",
    "1. **Sınıflama Ölçekleri** : Bireylerin ya da nesnelerin kategorize edilerek, türlerine göre gruplandırılmasına dayanır. Matematiksel olarak işlem yapılamaz. Matematiksel olarak en az bilgiyi veren türdür. Ölçülecek değişken kategorik değerler alır. Ölçülecek değişkenin miktar olarak değerlendirilmesi yapIlamaz. Örnek: voleybol takımindaki oyunculara sayı numarası vererek sınıflandırmak, Kişileri saç renklerine göre sınıflandırmak.\n",
    "2. **Sıralama Ölçekleri** : Bireyleri ya da nesneleri belirli özelliklerine göre ele alıp büyükten küçüğe ya da küçükten büyüğe siralayarak oluşturulan ölçek türüdür. Ölçme sonuçları üzerinde matematiksel işlemler yapamayız. Örnek: sınavdan alinan puana göre öğrencilerin başarı sıralamasını yapmak, iş yerinde kişileri boy sıralarına göre sıralamak, hastanede sıra numarası alarak sıralamak.\n",
    "3. **Eşit Aralıklı Ölçekler** : Ölçülen özelliğin belirlenen bir başlangıç noktası ele alınarak eşit aralıklarla ölçülmesine denir. Ölçme sonuçları üzerinde matematiksek işlem olarak toplama çıkarma yapilabilir. Örnek: sınav puanlarina göre sınıftaki öğrenciler 10'ar gruplara ayırılıp ölçeklendirilebilir.\n",
    "4. **Eşit Oranlı Ölçekler** : Ölçülen özelliğin belirlenen bir başlangıç noktası ele alınarak eşit oranlarda ölçülmesine denir. Ölçme sonuçları üzerinde matematiksek işlem olarak toplama çıkarma yapilabilir. Örnek: sınav puan aralıklarına göre sınıftaki öğrenciler 10'ar gruplara ayırılıp ölçeklendirilebilir."
   ]
  },
  {
   "cell_type": "markdown",
   "metadata": {},
   "source": [
    "## Tanımlayıcı İstatistik"
   ]
  },
  {
   "cell_type": "markdown",
   "metadata": {},
   "source": [
    "<p align=\"center\"><img align=\"center\" src=\"../images/tanimlayici-istatistikler.jpg\"></p>"
   ]
  },
  {
   "cell_type": "markdown",
   "metadata": {},
   "source": [
    "### 1. Yer Ölçüleri"
   ]
  },
  {
   "cell_type": "markdown",
   "metadata": {},
   "source": [
    "#### 1.1. Aritmetik Ortalama"
   ]
  },
  {
   "cell_type": "markdown",
   "metadata": {},
   "source": [
    "Bir veri setindeki elemanların tamamının toplamının eleman sayısına bölümüne **aritmetik ortalama** denir. Aritmetik ortlama veri setinin denge noktasını göstermektedir. Ortalama hesaplanırken veri setindeki **outlier (aykırı)** verilerin elimine edilmiş olması önemlidir. Aksi halde bu aykırı değer ortalamayı dağılımdan çok daha farklı yerlere götürüp hatalı analizler yapılmasına sebep olabilir."
   ]
  },
  {
   "cell_type": "markdown",
   "metadata": {},
   "source": [
    "**Popülasyon Aritmetik Ortalama**"
   ]
  },
  {
   "cell_type": "markdown",
   "metadata": {},
   "source": [
    "\n",
    "$$ \\mu = {\\frac{1}{N} \\sum_{i=1}^{N} x_{i}} = \\frac{x_1+x_2+x_3+\\cdots+x_N}{N} $$\n"
   ]
  },
  {
   "cell_type": "markdown",
   "metadata": {},
   "source": [
    "**Örneklem Aritmetik Ortalama**"
   ]
  },
  {
   "cell_type": "markdown",
   "metadata": {},
   "source": [
    "$$ \\bar{x} = {\\frac{1}{n} \\sum_{i=1}^{n} x_{i}} = \\frac{x_1+x_2+x_3+\\cdots+x_n}{n} $$"
   ]
  },
  {
   "cell_type": "markdown",
   "metadata": {},
   "source": [
    "**Örnek**"
   ]
  },
  {
   "cell_type": "markdown",
   "metadata": {},
   "source": [
    "```\n",
    "    veri seti => 2 8 6 14 22 35 40\n",
    "    verilerin toplamı = 127\n",
    "    veri adedi = 7\n",
    "    aritmetik ortalama => 127/7 = 18.14\n",
    "```"
   ]
  },
  {
   "cell_type": "markdown",
   "metadata": {},
   "source": [
    "#### 1.2. Geometrik Ortalama"
   ]
  },
  {
   "cell_type": "markdown",
   "metadata": {},
   "source": [
    "Gözlem sonuçlarının her biri bir önceki gözlem sonucuna bağlı olarak değişiyorsa ve bu değişmenin hızı saptanmak istenirse **geometrik ortalama** kullanılır."
   ]
  },
  {
   "cell_type": "markdown",
   "metadata": {},
   "source": [
    "**Popülasyon Geometrik Ortalama**"
   ]
  },
  {
   "cell_type": "markdown",
   "metadata": {},
   "source": [
    "$$ \\mu_{geom} = \\left(\\prod _{i=1}^{N}x_{i}\\right)^{\\frac {1}{N}}={\\sqrt[{N}]{x_{1}x_{2}\\cdots x_{n}}} $$"
   ]
  },
  {
   "cell_type": "markdown",
   "metadata": {},
   "source": [
    "**Örneklem Geometrik Ortalama**"
   ]
  },
  {
   "cell_type": "markdown",
   "metadata": {},
   "source": [
    "$$ \\bar{x}_{geom} = \\left(\\prod _{i=1}^{n}x_{i}\\right)^{\\frac {1}{n}}={\\sqrt[{n}]{x_{1}x_{2}\\cdots x_{n}}} $$"
   ]
  },
  {
   "cell_type": "markdown",
   "metadata": {},
   "source": [
    "**Örnek**"
   ]
  },
  {
   "cell_type": "markdown",
   "metadata": {},
   "source": [
    "$$\n",
    "    veri seti => 3\\quad 9\\quad 27\\quad 81\\quad 243\\quad \n",
    "$$"
   ]
  },
  {
   "cell_type": "markdown",
   "metadata": {},
   "source": [
    "$$\n",
    "    verilerin\\ carpımı = 14348907\n",
    "$$"
   ]
  },
  {
   "cell_type": "markdown",
   "metadata": {},
   "source": [
    "$$    \n",
    "    veri\\ adedi = 5\n",
    "$$"
   ]
  },
  {
   "cell_type": "markdown",
   "metadata": {},
   "source": [
    "$$  \n",
    "    aritmetik\\ ortalama => \\sqrt[5]{14348907} = 27 \n",
    "$$"
   ]
  },
  {
   "cell_type": "markdown",
   "metadata": {},
   "source": [
    "#### 1.3. Harmonik Ortalama"
   ]
  },
  {
   "cell_type": "markdown",
   "metadata": {},
   "source": [
    "Harmonik ortalama genellikle, ekonomik olaylarda 1 birim ile alınan ortalama miktara veya bir mamülün bir biriminin üretimi için harcanan ortalamaya gereksinim duyulduğunda kullanılır."
   ]
  },
  {
   "cell_type": "markdown",
   "metadata": {},
   "source": [
    "$$\n",
    "    \\mu_{H} = {\\frac{N}{ \\sum_{i=1}^{N} \\frac{1}{x_{i}}}} = \\frac{N}{\\frac{1}{x_1}+\\frac{1}{x_2}+\\frac{1}{x_3}+\\cdots+\\frac{1}{x_n}}\n",
    "$$"
   ]
  },
  {
   "cell_type": "markdown",
   "metadata": {},
   "source": [
    "**Örnek** : Bir fabrikada mouse üretilmektedir. Aşağıda her bir makinenin bir mouse'u kaç dakikada ürettiği verilmektedir. Bir mouse'un ortalama kaç dakikada üretildiğini bulunuz.\n",
    "\n",
    "<table>\n",
    "  <tr>\n",
    "    <th>Üretim Süresi (x)</th>\n",
    "    <th>1/x</th>\n",
    "  </tr>\n",
    "  <tr>\n",
    "    <td>6</td>\n",
    "    <td>0.167</td>\n",
    "  </tr>\n",
    "  <tr>\n",
    "    <td>10</td>\n",
    "    <td>0.1</td>\n",
    "  </tr>\n",
    "  <tr>\n",
    "    <td>20</td>\n",
    "    <td>0.05</td>\n",
    "  </tr>\n",
    "  <tr>\n",
    "    <td>5</td>\n",
    "    <td>0.2</td>\n",
    "  </tr>\n",
    "  <tr>\n",
    "    <td>Toplam</td>\n",
    "    <td>0.517</td>\n",
    "  </tr>\n",
    "</table>"
   ]
  },
  {
   "cell_type": "markdown",
   "metadata": {},
   "source": [
    "$$\n",
    "    \\mu_{H} = {\\frac{N}{ \\sum_{i=1}^{n} \\frac{1}{x_{i}}}} = \\frac{4}{0.517} = 7.74 \n",
    "$$"
   ]
  },
  {
   "cell_type": "markdown",
   "metadata": {},
   "source": [
    "$$\n",
    "    \\mu_{H} = 7.74\\ dakika/parca\n",
    "$$"
   ]
  },
  {
   "cell_type": "markdown",
   "metadata": {},
   "source": [
    "#### 1.4. Medyan (Ortanca Değer)"
   ]
  },
  {
   "cell_type": "markdown",
   "metadata": {},
   "source": [
    "Bir sayısal veri seti küçükten büyüğe ya da büyükten küçüğe sıralandığında ortada kalan değer **medyandır**. Veri adedi tekse direkt ortada kalan veri medyanı verir, çiftse ortada kalan iki verinin ortalaması medyanı verir."
   ]
  },
  {
   "cell_type": "markdown",
   "metadata": {},
   "source": [
    "$$\n",
    "    veri\\ adedi\\ (n)\\ tek\\ ise = x_\\frac{n + 1}{2}\n",
    "$$"
   ]
  },
  {
   "cell_type": "markdown",
   "metadata": {},
   "source": [
    "$$\n",
    "    veri\\ adedi\\ (n)\\ cift\\ ise = \\frac{x_\\frac{n}{2} + x_{\\frac{n}{2}+1}}{2}\n",
    "$$"
   ]
  },
  {
   "cell_type": "markdown",
   "metadata": {},
   "source": [
    "```\n",
    "    Örnek.: Aşağıdaki veri setlerine göre medyanları bulunuz.\n",
    "    veri seti = 1  2  2  3  4  5  7\n",
    "    n = 7\n",
    "    medyan = x(7+1)/2 = x4 = 3\n",
    "    veri seti = 10  20  40  45  50  60  65  70  90  100\n",
    "    n = 10\n",
    "    medyan = (x(10/2) + x(10/2+1)) / 2  = (50 + 60) / 2 = 55\n",
    "```"
   ]
  },
  {
   "cell_type": "markdown",
   "metadata": {},
   "source": [
    "#### 1.5. Mod (Tepe Değer)"
   ]
  },
  {
   "cell_type": "markdown",
   "metadata": {},
   "source": [
    "Veri grubunda en çok tekrar eden veriye **mod** denir. Yani frekansı en yüksek olan veridir. Birden fazla mod yer alabilir.\n",
    "\n",
    "```\n",
    "    Örnek.: Aşağıdaki veri setlerine göre modları bulunuz.\n",
    "    veri seti = 40  50  70  60  70  95  70\n",
    "    40  ->  1\n",
    "    50  ->  1\n",
    "    60  ->  1\n",
    "    70  ->  3  mod\n",
    "    95  ->  1\n",
    "```"
   ]
  },
  {
   "cell_type": "markdown",
   "metadata": {},
   "source": [
    "#### 1.6. Kartiller"
   ]
  },
  {
   "cell_type": "markdown",
   "metadata": {},
   "source": [
    "Bir veri setinde sayısal değerleri küçükten büyüğe sıralayarak 4 parçaya bölen 3 farklı değere **kartiller** denir.\n",
    "\n",
    "```\n",
    "    Örnek.: Bir okuldaki öğrencilerin notları aşağıda sıralanmıştır. 1. kartil,\n",
    "    2.kartil (medyan) ve 3. kartili bulun.\n",
    "    puanlar = 10  15  20  30  40  50  55  70  80  90  100\n",
    "    n = 11\n",
    "    2. kartil (medyan) = x(11+1)/2 = x6 = 50\n",
    "    n = 5\n",
    "    1. kartil = x(5+1)/2 = x3 = 20\n",
    "    n = 5\n",
    "    3. kartil = x(5+1)/2 = x3 = 80\n",
    "```"
   ]
  },
  {
   "cell_type": "markdown",
   "metadata": {},
   "source": [
    "### 2. Dağılım (Değişkenlik) Ölçüleri"
   ]
  },
  {
   "cell_type": "markdown",
   "metadata": {},
   "source": [
    "#### 2.1. Değişim Aralığı (Range)"
   ]
  },
  {
   "cell_type": "markdown",
   "metadata": {},
   "source": [
    "Değişim aralığı bize serideki en büyük değer ile en küçük değer arasındaki farkı verir.\n",
    "\n",
    "$$\n",
    "    Degisim\\ Aralığı = x_{max} - x_{min}\n",
    "$$"
   ]
  },
  {
   "cell_type": "markdown",
   "metadata": {},
   "source": [
    "```\n",
    "    Örnek.: Aşağıdaki veri setine göre değişim aralığını bulunuz.\n",
    "    3  5  5  6  12  7  9  18\n",
    "\n",
    "    x_max = 18\n",
    "    x_min = 3\n",
    "    değişim aralığı = 18 - 3 = 15\n",
    "```"
   ]
  },
  {
   "cell_type": "markdown",
   "metadata": {},
   "source": [
    "#### 2.2. Ortalama Mutlak Sapma (Average Absolute Deviation)"
   ]
  },
  {
   "cell_type": "markdown",
   "metadata": {},
   "source": [
    "Veri setindeki değerlerin veri setinin ortalamasından ortalama ne kadar saptığını bize vermektedir.\n",
    "\n",
    "$$\n",
    "    OMS = \\frac{1}{n} \\sum_{i=1}^{n} |x_i-\\bar{x}|\n",
    "$$"
   ]
  },
  {
   "cell_type": "markdown",
   "metadata": {},
   "source": [
    "$$\n",
    "    \\bar{x} = aritmetik\\ ortalama\n",
    "$$"
   ]
  },
  {
   "cell_type": "markdown",
   "metadata": {},
   "source": [
    "**Örnek** : Aşağıdaki verilerin ortalama mutlak sapmasını bulunuz.\n",
    "\n",
    "<table>\n",
    "  <tr>\n",
    "    <th>Veri (x)</th>\n",
    "    <th>Ortalamadan Uzaklık</th>\n",
    "  </tr>\n",
    "  <tr>\n",
    "    <td>10</td>\n",
    "    <td>|10 - 16| = 6</td>\n",
    "  </tr>\n",
    "  <tr>\n",
    "    <td>15</td>\n",
    "    <td>|15 - 16| = 1</td>\n",
    "  </tr>\n",
    "  <tr>\n",
    "    <td>15</td>\n",
    "    <td>|15 - 16| = 1</td>\n",
    "  </tr>\n",
    "  <tr>\n",
    "    <td>17</td>\n",
    "    <td>|17 - 16| = 1</td>\n",
    "  </tr>\n",
    "  <tr>\n",
    "    <td>18</td>\n",
    "    <td>|18 - 16| = 2</td>\n",
    "  </tr>\n",
    "  <tr>\n",
    "    <td>21</td>\n",
    "    <td>|21 - 16| = 5</td>\n",
    "  </tr>\n",
    "  <tr>\n",
    "    <td><b>Toplam</b></td>\n",
    "    <td>16</td>\n",
    "  </tr>\n",
    "  <tr>\n",
    "    <td><b>OMS</b></td>\n",
    "    <td>16 / 6 = 2.67</td>\n",
    "  </tr>\n",
    "</table>"
   ]
  },
  {
   "cell_type": "markdown",
   "metadata": {},
   "source": [
    "#### 2.3. Standart Sapma (Standart Deviation)"
   ]
  },
  {
   "cell_type": "markdown",
   "metadata": {},
   "source": [
    "Standart sapma bize verilerin ortalamaya ne kadar yakın olduğu bilgisini verir. Standart sapma küçükse veriler ortalamaya yakın olarak dağılım gösterir. Büyükse ortalamadan uzakta dağılım gösterirler. <br>\n",
    "Standart sapma işlemi; serideki sayıların serinin aritmetik ortalamasından farklarının karelerinin toplamının seri dizisinin eleman sayısının bir eksiğine bölümünün karekökü olarak formülize edilir.\n",
    "\n",
    "$$\n",
    "    S = \\sqrt{\\frac{\\sum_{i=1}^{n} (x_i-\\bar{x})^2}{n-1}} \\\\\n",
    "$$"
   ]
  },
  {
   "cell_type": "markdown",
   "metadata": {},
   "source": [
    "**Örnek** : Aşağıda 2 farklı öğrencinin online aldığı eğitimleri haftalık olarak devam ettirme süreleri yer alıyor. Buna göre standart sapmayı hesaplayınız.\n",
    "\n",
    "<table>\n",
    "  <tr>\n",
    "    <th>Gün</th>\n",
    "    <th>1. Öğrenci</th>\n",
    "    <th>2. Öğrenci</th>\n",
    "  </tr>\n",
    "  <tr>\n",
    "    <td>Pazartesi</td>\n",
    "    <td>5 dk</td>\n",
    "    <td>10 dk</td>\n",
    "  </tr>\n",
    "  <tr>\n",
    "    <td>Salı</td>\n",
    "    <td>15 dk</td>\n",
    "    <td> 15 dk</td>\n",
    "  </tr>\n",
    "  <tr>\n",
    "    <td>Çarşamba</td>\n",
    "    <td>20 dk</td>\n",
    "    <td> 15 dk</td>\n",
    "  </tr>\n",
    "  <tr>\n",
    "    <td>Perşembe</td>\n",
    "    <td>5 dk</td>\n",
    "    <td> 5 dk</td>\n",
    "  </tr>\n",
    "  <tr>\n",
    "    <td>Cuma</td>\n",
    "    <td>5 dk</td>\n",
    "    <td> 5 dk</td>\n",
    "  </tr>\n",
    "</table>\n",
    "\n",
    "1. Öğrencinin günlük ortalaması = 50 / 5 = **10**\n",
    "2. Öğrencinin günlük ortalaması = 50 / 5 = **10**"
   ]
  },
  {
   "cell_type": "markdown",
   "metadata": {},
   "source": [
    "**1. Öğrencinin standart sapması**\n",
    "$$\n",
    "    = \\sqrt{\\frac{(5-10)^2+(15-10)^2+(20-10)^2+(5-10)^2+(5-10)^2}{5-1}}\n",
    "$$\n",
    "$$\n",
    "    = \\sqrt{\\frac{200}{4}}\n",
    "$$\n",
    "$$\n",
    "    = 7.07\n",
    "$$\n",
    "**2. Öğrencinin standart sapması**\n",
    "$$\n",
    "     = \\sqrt{\\frac{(10-10)^2+(15-10)^2+(15-10)^2+(5-10)^2+(5-10)^2}{5-1}}\n",
    "$$\n",
    "$$\n",
    "     = \\sqrt{\\frac{100}{4}}\n",
    "$$\n",
    "$$\n",
    "     = 5\n",
    "$$\n",
    "2.Öğrencinin standart sapması daha düşük olduğu için daha istikrarlıdır diyebiliriz.\n"
   ]
  },
  {
   "cell_type": "markdown",
   "metadata": {},
   "source": [
    "#### 2.4. Varyans"
   ]
  },
  {
   "cell_type": "markdown",
   "metadata": {},
   "source": [
    "Standart sapmanın karesi olarak formülize edillir. Varyans kavramı dağılıma ait her bir değerin dağılımın ortalamasından ne kadar uzak olduğuyla ilgilidir. Varyans söz konusu sapmaların ortalama değerini ölçmektedir. Varyans, ortalamadan sapmaların karelerinin ortalamasıdır. Standart sapma ise, dağılımdaki sayıların ne kadar yayıldığının ölçüsüdür. Yani verilerin merkezden veya ortalamadan ne kadar saptığını gösterir. <br>\n",
    "Örneğin, iki popülasyon ele alalım ve ikisinin de kilo ortalaması 50 olsun. Birinci popülasyonda kilo dağılımı 150-20 kilo arası değişebilir. Aynı şekilde ikincide de 40-60 arası değişebilir. Görüldüğü gibi iki popülasyonun da saçılımı farklıdır. Birincide saçılım daha fazlayken, ikincide daha azdır. Standart sapma ve varyans bize bu saçılım oranını görmek konusunda kolaylık sağlar.\n",
    "\n",
    "$$\n",
    "    S^2 = \\frac{1}{n-1}\\sum_{i=1}^{n} (x_i-\\bar{x})^2\n",
    "$$"
   ]
  },
  {
   "cell_type": "markdown",
   "metadata": {},
   "source": [
    "### 3. Çarpıklık (Skewness)"
   ]
  },
  {
   "cell_type": "markdown",
   "metadata": {},
   "source": [
    "Bir dağılımın normal olup olmadığını test etmek için çarpıklık ve yığılma testleri yapılır. Çarpıklık bir dağılımın simetrik olup olmadığını analiz eder.\n",
    "\n",
    "* **Simetrik dağılımlarda** ortalama = ortanca = mod\n",
    "* **Sağa (pozitif) çarpık** dağılımlarda genellikle ortalama > ortanca > mod olarak yer alır.\n",
    "* **Sola (negatif) çarpık** dağılımlarda ise genellikle mod > ortanca > ortalama olarak yer alır.\n",
    "\n",
    "Bu varsayım **Pearson Çarpıklık Katsayıları** olarak literatürde yer almaktadır. Bu çarpıklık katsayıları:\n",
    "* = 0 ise dağılım simetrik,\n",
    "* \\> 0 ise dağılım sağa çarpık\n",
    "* < 0 ise dağılım sola çarpıktır."
   ]
  },
  {
   "cell_type": "markdown",
   "metadata": {},
   "source": [
    "$$\n",
    "    Carpıklık = \\frac{(\\bar{x}-mod)}{S}\n",
    "$$\n",
    "$$\n",
    "    veya\n",
    "$$\n",
    "$$\n",
    "    Carpıklık = \\frac{3(\\bar{x}-medyan)}{S}\n",
    "$$\n",
    "$$\n",
    "    S = standart sapma\n",
    "$$\n",
    "$$\n",
    "    \\bar{x} = aritmetik\\ ortalama\n",
    "$$"
   ]
  },
  {
   "cell_type": "markdown",
   "metadata": {},
   "source": [
    "<p align=\"center\"><img align=\"center\" src=\"../images/carpiklik.png\"></p>"
   ]
  },
  {
   "cell_type": "markdown",
   "metadata": {},
   "source": [
    "### 4. Basıklık (Kurtosis)"
   ]
  },
  {
   "cell_type": "markdown",
   "metadata": {},
   "source": [
    "Grafik gösteriminden yola çıkarak dağılımın basıklığını ölçme sürecidir. Basıklık olma durumunda **standart sapma** da yüksek sonuçlar verebilir.\n",
    "\n",
    "$$\n",
    "    kurtosis = \\frac{\\sum_{i=1}^{n} (x_i-\\bar{x})^4}{N.S^4} - 3\n",
    "$$\n",
    "\n",
    "Formülde dikkat edilmesi gereken nokta 3 ile çıkarma yapmamızdır. Bunun nedeni aslında dikkat ettiyseniz değerlerin 4.kuvveti alınmasındandır. 4.kuvvetini aldığımız hiçbir değer negatif olmaz. Bunu bir düzeltme sayısı olarak düşünebiliriz. 3 değerini çıkarmadan önceki değer tam olarak 3 olduğunda verinin basıklığı normal dağılıma uygun olduğu görülür. Bu nedenle veriden 3 çıkarılarak normal dağılıma yakınsayan durumun 0 değerinde gerçekleşmesi sağlanır."
   ]
  },
  {
   "cell_type": "markdown",
   "metadata": {},
   "source": [
    "<p align=\"center\"><img align=\"center\" src=\"../images/basiklik.png\"></p>"
   ]
  },
  {
   "cell_type": "markdown",
   "metadata": {},
   "source": [
    "## Çıkarımsal İstatistik"
   ]
  },
  {
   "cell_type": "markdown",
   "metadata": {},
   "source": [
    "### 1. Güven Aralığı (Confidence Interval)"
   ]
  },
  {
   "cell_type": "markdown",
   "metadata": {},
   "source": [
    "Güven aralığı, istatistik biliminde bir anakütle parametresi için bir çeşit aralık kestirimi olup bir çıkarımsal istatistik çözüm aracıdır. Bir anakütle parametre değerinin tek bir sayı ile kestirimi yapılacağına, bu parametre değerini kapsayabilecek iki (alt ve üst sınır) sayıdan oluşan bir aralık bulunur. <br>\n",
    "\n",
    "Bu problemleri çözebilmek için z veya t tablosundan yararlanmak gerekiyor."
   ]
  },
  {
   "cell_type": "markdown",
   "metadata": {},
   "source": [
    "$$\n",
    "    CI = \\bar{x} \\pm z_{\\frac{\\alpha}{2}}\\frac{S}{\\sqrt{n}}\n",
    "$$\n",
    "$$\n",
    "    z = güven\\ seviyesi\\ değeri\n",
    "$$\n",
    "$$\n",
    "    n = örnek\\ sayısı\n",
    "$$\n",
    "$$\n",
    "    \\bar{x} = aritmetik\\ ortalama\n",
    "$$\n",
    "$$\n",
    "    S = standart\\ sapma\n",
    "$$"
   ]
  },
  {
   "cell_type": "markdown",
   "metadata": {},
   "source": [
    "**Örnek** : İstanbul'da otamobil sahibi olan kişiler arasından seçilen 100 kişilik bir örneklem icin 1 ylda ortalama 23500 km yol gittikleri belirlenmiştir. Bu örneklemin standart sapmasının da 3900 km olduğu görülmüştür. \n",
    "Bu blgilere göre, İstanbul'daki otomobil sahibi kişilerin 1 yılda araçları ile gittikleri ortalama yol için km olarak %99 güven düzeyi ile bir aralık bulunuz.\n",
    "\n",
    "$$\n",
    "    n = 100\n",
    "$$\n",
    "$$\n",
    "    \\bar{x} = 23500\n",
    "$$\n",
    "$$\n",
    "    S = 3900 \n",
    "$$\n",
    "$$\n",
    "    \\alpha = 1 - 0.99 = 0.01\n",
    "$$\n",
    "$$\n",
    "    \\mu = ?\n",
    "$$\n",
    "$$\n",
    "    23500 - z_{0.005}.\\frac{3900}{\\sqrt{100}} < \\mu < 23500 + z_{0.005}.\\frac{3900}{\\sqrt{100}}\n",
    "$$\n",
    "$$\n",
    "    z_{0.005} (1 - 0.005 = 0.995) = 2.575 \\\\\n",
    "$$\n",
    "$$\n",
    "    22495.75 < \\mu < 24504.25\n",
    "$$"
   ]
  },
  {
   "cell_type": "markdown",
   "metadata": {},
   "source": [
    "Daha detaylı bilgi için => [BUders Boğaziçiliden Özel Ders](https://www.youtube.com/playlist?list=PLcNWqzWzYG2uEA4CxIVQfrmSBmFVYs8hZ)"
   ]
  },
  {
   "cell_type": "markdown",
   "metadata": {},
   "source": [
    "### 2. Hipotez Testleri"
   ]
  },
  {
   "cell_type": "markdown",
   "metadata": {},
   "source": [
    "Popülasyon parametreleri ile ilgili ortaya atılmış iddianın doğru olup olmadığını belirlemektir. Örneklem istatistiklerinden yararlanarak bir hipotezin geçerli olup olmadığını ortaya koyma işlemine hipotez testi denir. <br>\n",
    "\n",
    "İddia ==> hipotez oluşturulur ==> doğruluğu test edilir\n",
    "\n",
    "1. **H0 (Sıfır - Null Hipotezi)** : Örneklemden elde edilen değer ile popülasyonun bilinen değeri arasında fark yoktur. Daima iddiada geçen sayıya eşit olmalıdır.\n",
    "2. **H1 (Karşıt - Alternative Hipotez)** : Örneklemden elde edilen değer ile popülasyonun bilinen değeri arasında önemli bir fark vardır. Daima iddiayı göstermelidir.\n",
    "\n",
    "**Not** : Örneklem parametreleri ile hipotez oluşturulmaz!!! <br>\n",
    "\n",
    "Hipotez testinde bir hipotezle onun karşıtı (H0 ve H1) olan hipotezlerin hangisinin örneklemden elde edilen sonuçla daha iyi bağdaştığı araştırılmaktadrır."
   ]
  },
  {
   "cell_type": "markdown",
   "metadata": {},
   "source": [
    "#### Hipotezlerin Kuruluşu"
   ]
  },
  {
   "cell_type": "markdown",
   "metadata": {},
   "source": [
    "1. Çift Taraflı Hipotez Testi\n",
    "$$\n",
    "    H_0 : \\mu = \\mu_0\n",
    "$$\n",
    "$$\n",
    "    H_1 : \\mu \\ne \\mu_0\n",
    "$$\n",
    "\n",
    "2. Tek Taraflı Hipotez Testi\n",
    "    *   $  H_0 : \\mu = \\mu_0  $\n",
    "        $H_1 : \\mu < \\mu_0 $\n",
    "\n",
    "    *   $ H_0 : \\mu = \\mu_0 $\n",
    "        $ H_1 : \\mu > \\mu_0 $\n",
    "\n",
    "**Örnek** : Bir hastalıkta ortalama iyileşme süresinin 10 günden az olduğu iddia ediliyor. \n",
    "$$\n",
    "    H_0 : \\mu = 10 \n",
    "$$\n",
    "$$\n",
    "    H_1 : \\mu < 10\n",
    "$$"
   ]
  },
  {
   "cell_type": "markdown",
   "metadata": {},
   "source": [
    "#### Kritik Bölge, Anlamlılık Düzeyi"
   ]
  },
  {
   "cell_type": "markdown",
   "metadata": {},
   "source": [
    "<p align=\"center\"><img align=\"center\" src=\"../images/kritik_bolge.png\"></p>"
   ]
  },
  {
   "cell_type": "markdown",
   "metadata": {},
   "source": [
    "#### Hipotez Testinin Uygulanma Adımları"
   ]
  },
  {
   "cell_type": "markdown",
   "metadata": {},
   "source": [
    "<p align=\"center\"><img align=\"center\" src=\"../images/hipotez_testi_adimlari.png\"></p>"
   ]
  },
  {
   "cell_type": "markdown",
   "metadata": {},
   "source": [
    "#### Örneklem Dağılımının Belirlenmesi"
   ]
  },
  {
   "cell_type": "markdown",
   "metadata": {},
   "source": [
    "Güven aralığı içinde geçerlidir.\n",
    "\n",
    "<p align=\"center\"><img align=\"center\" src=\"../images/hipotez_test_orneklem_dagilimi.png\"></p>"
   ]
  },
  {
   "cell_type": "markdown",
   "metadata": {},
   "source": [
    "#### Popülasyon Varyansı Biliniyorken Ortalama için Hipotez Testi Örneği"
   ]
  },
  {
   "cell_type": "markdown",
   "metadata": {},
   "source": [
    "Belirli bir hastalığın tedavisi için yeni bir tür ilaç geliştirilmiştir. Bu ilaçla tedavi edilen hastaların ortalama iyileşme süresinin 10 günden az olduğu iddia edilmektedir. Rastgele seçilen 7 hasta sözü edilen ilaçla tedavi edilmiş ve kaç günde iyileşitkleri aşağıda verilmiştir.\n",
    "```\n",
    "    2   4   11   3   4   6   8\n",
    "```\n",
    "varyans = 4 ve alfa = 0.01 ise bu iddia için kararınız ne olur?\n",
    "\n",
    "<p align=\"center\"><img align=\"center\" src=\"../images/hipotez_testi_cozum.png\"></p>\n",
    "\n",
    "Daha detaylı bilgi için => [BUders Boğaziçiliden Özel Ders](https://www.youtube.com/playlist?list=PLcNWqzWzYG2tX9DASNZBtrskcXnelH8Hf)"
   ]
  },
  {
   "cell_type": "markdown",
   "metadata": {},
   "source": [
    "### 3. Korelasyon"
   ]
  },
  {
   "cell_type": "markdown",
   "metadata": {},
   "source": [
    "Korelasyon tanımsal olarak istatistikte iki veya daha fazla değişkenin arasındaki doğrusal ilişkinin yönünü ve gücünü ifade eder. Bir değişkenin iki ya da daha çok değişken ile olan ilişkisi çoklu korelasyon adını alır. Değişkenlerden birinin sabitlenerek diğer değişkenler ile olan ilişkisi ise kısmi korelasyon adını alır. Korelasyon sayısı **\"r\"** ile gösterilir. Korelasyon katsayısı -1 ile +1 değerleri arasında değişmektedir.\n",
    "\n",
    "<p align=\"center\"><img align=\"center\" src=\"../images/korelasyon.png\"></p>"
   ]
  },
  {
   "cell_type": "markdown",
   "metadata": {},
   "source": [
    "### 4. Regresyon"
   ]
  },
  {
   "cell_type": "markdown",
   "metadata": {},
   "source": [
    "Regresyon tanımsal olarak bir bağımlı değişken ile bağımsız değişkenler arasındaki ilişkiyi belirler Regresyon analizi bağımsız değişkenler değiştiğinde bağımlı değişkenin nasıl bir etki alacağını hesaplar. Degişkenler arasındaki neden sonuç ilişkisini test eder. <br>\n",
    "\n",
    "**Not** : İki veya daha fazla değişken arasındaki ilişkinin matematiksel bağıntı regresyon analiziyle, bu ilişkinin yönü ve derecesi ise korelasyon analiziyle incelenir. <br>\n",
    "\n",
    "Doğrusal regresyon bir doğrudaki noktalara en uygun düzlemi bulmak için kullanılır. Doğrusal regresyonun amacı bağımlı değişken ile bağımsız değişken arasındaki en doğru duzlemi kurarak aralarındaki ilişkiyi analiz etmektir."
   ]
  },
  {
   "cell_type": "markdown",
   "metadata": {},
   "source": [
    "<p align=\"center\"><img align=\"center\" src=\"../images/regresyon.png\"></p>"
   ]
  }
 ],
 "metadata": {
  "language_info": {
   "name": "python"
  },
  "orig_nbformat": 4
 },
 "nbformat": 4,
 "nbformat_minor": 2
}
